{
 "cells": [
  {
   "cell_type": "markdown",
   "metadata": {},
   "source": [
    "# Practica en Clase"
   ]
  },
  {
   "cell_type": "code",
   "execution_count": 1,
   "metadata": {},
   "outputs": [
    {
     "name": "stdout",
     "output_type": "stream",
     "text": [
      "Hola a todos\n"
     ]
    }
   ],
   "source": [
    "a=\"Hola a todos\"\n",
    "print(a)"
   ]
  },
  {
   "cell_type": "code",
   "execution_count": 2,
   "metadata": {},
   "outputs": [
    {
     "name": "stdout",
     "output_type": "stream",
     "text": [
      "Hola\n",
      "Como estan\n"
     ]
    }
   ],
   "source": [
    "a=\"\"\"Hola\n",
    "Como estan\"\"\"\n",
    "print(a)"
   ]
  },
  {
   "cell_type": "markdown",
   "metadata": {},
   "source": [
    "# Variables"
   ]
  },
  {
   "cell_type": "code",
   "execution_count": 3,
   "metadata": {},
   "outputs": [],
   "source": [
    "numero=4\n",
    "miString=\"Hola\" #esto es un comentario\n",
    "miBool=True"
   ]
  },
  {
   "cell_type": "code",
   "execution_count": 5,
   "metadata": {},
   "outputs": [
    {
     "name": "stdout",
     "output_type": "stream",
     "text": [
      "hola a todos, mi edad es:  24\n"
     ]
    }
   ],
   "source": [
    "edad=24\n",
    "print(\"hola a todos, mi edad es: \", edad)"
   ]
  },
  {
   "cell_type": "code",
   "execution_count": 6,
   "metadata": {},
   "outputs": [
    {
     "name": "stdout",
     "output_type": "stream",
     "text": [
      "Hola a todos, mi nombre es Melanie y mi edad es 24\n"
     ]
    }
   ],
   "source": [
    "nombre=\"Melanie\"\n",
    "print(f\"Hola a todos, mi nombre es {nombre} y mi edad es {edad}\")"
   ]
  },
  {
   "cell_type": "code",
   "execution_count": 7,
   "metadata": {},
   "outputs": [
    {
     "name": "stdout",
     "output_type": "stream",
     "text": [
      "SELECT * FROM empleado\n",
      "WHERE salario >=2500 AND estado=Finanzas\n"
     ]
    }
   ],
   "source": [
    "salario= 2500\n",
    "dept = \"Finanzas\"\n",
    "miQuery = \"\"\"SELECT * FROM empleado\n",
    "WHERE salario >={} AND estado={}\"\"\".format(salario,dept)\n",
    "print(miQuery)"
   ]
  },
  {
   "cell_type": "code",
   "execution_count": 8,
   "metadata": {},
   "outputs": [
    {
     "name": "stdout",
     "output_type": "stream",
     "text": [
      "Hola, Melanie esto es Python\n"
     ]
    }
   ],
   "source": [
    "nombre=input(\"Ingresa tu nombre: \")\n",
    "print(f\"Hola, {nombre} esto es Python\")"
   ]
  },
  {
   "cell_type": "markdown",
   "metadata": {},
   "source": [
    "# Strings"
   ]
  },
  {
   "cell_type": "code",
   "execution_count": 11,
   "metadata": {},
   "outputs": [
    {
     "data": {
      "text/plain": [
       "14"
      ]
     },
     "execution_count": 11,
     "metadata": {},
     "output_type": "execute_result"
    }
   ],
   "source": [
    "a = \"Melanie Raquec\"\n",
    "a [0:5]\n",
    "len(a)"
   ]
  },
  {
   "cell_type": "code",
   "execution_count": 12,
   "metadata": {},
   "outputs": [
    {
     "data": {
      "text/plain": [
       "True"
      ]
     },
     "execution_count": 12,
     "metadata": {},
     "output_type": "execute_result"
    }
   ],
   "source": [
    "43==34\n",
    "43==43"
   ]
  },
  {
   "cell_type": "code",
   "execution_count": 13,
   "metadata": {},
   "outputs": [
    {
     "name": "stdout",
     "output_type": "stream",
     "text": [
      "El numnero no es cero\n"
     ]
    }
   ],
   "source": [
    "numero = int(input(\"Ingresa un numero: \"))\n",
    "if (numero!=0):\n",
    "    print(\"El numnero no es cero\")\n",
    "else:\n",
    "    print(\"El numero es 0\")"
   ]
  },
  {
   "cell_type": "code",
   "execution_count": 14,
   "metadata": {},
   "outputs": [
    {
     "name": "stdout",
     "output_type": "stream",
     "text": [
      "El dia es viernes\n"
     ]
    }
   ],
   "source": [
    "dia = int(input(\"Ingrese el numero de dia: \"))\n",
    "if (dia >= 1 and dia <=7):\n",
    "    if(dia==1):\n",
    "        print(\"El dia es lunes\")\n",
    "    elif(dia==2):\n",
    "        print(\"El dia es martes\")\n",
    "    elif(dia==3):\n",
    "        print(\"El dia es miercoles\")\n",
    "    elif(dia==4):\n",
    "        print(\"El dia es jueves\")\n",
    "    elif(dia==5):\n",
    "        print(\"El dia es viernes\")\n",
    "    elif(dia==6):\n",
    "        print(\"El dia es sabado\")\n",
    "    elif(dia==7):\n",
    "        print(\"El dia es domingo\")\n",
    "else:\n",
    "    print(\"El dia es incorrecto\")"
   ]
  },
  {
   "cell_type": "code",
   "execution_count": 19,
   "metadata": {},
   "outputs": [],
   "source": [
    "lista=[10,20,30,40,50,60,70,80,90]\n",
    "#Es dinamica\n",
    "#Almacena tipos de datos distintos"
   ]
  },
  {
   "cell_type": "code",
   "execution_count": 20,
   "metadata": {},
   "outputs": [
    {
     "data": {
      "text/plain": [
       "[50, 60, 70, 80, 90]"
      ]
     },
     "execution_count": 20,
     "metadata": {},
     "output_type": "execute_result"
    }
   ],
   "source": [
    "lista[4:]\n",
    "len(lista)"
   ]
  },
  {
   "cell_type": "code",
   "execution_count": 22,
   "metadata": {},
   "outputs": [],
   "source": [
    "lista.append('Data')"
   ]
  },
  {
   "cell_type": "code",
   "execution_count": 21,
   "metadata": {},
   "outputs": [],
   "source": [
    "lista.insert(3, 'UMG')"
   ]
  },
  {
   "cell_type": "code",
   "execution_count": 23,
   "metadata": {},
   "outputs": [
    {
     "data": {
      "text/plain": [
       "[10, 20, 30, 'UMG', 40, 50, 60, 70, 80, 90, 'Data']"
      ]
     },
     "execution_count": 23,
     "metadata": {},
     "output_type": "execute_result"
    }
   ],
   "source": [
    "lista"
   ]
  },
  {
   "cell_type": "markdown",
   "metadata": {},
   "source": [
    "## Eleminar Elementos de una Lista"
   ]
  },
  {
   "cell_type": "code",
   "execution_count": 24,
   "metadata": {},
   "outputs": [],
   "source": [
    "del lista[3] #eliminar por posicion\n",
    "lista.remove('Data')#eliminar por valor"
   ]
  },
  {
   "cell_type": "code",
   "execution_count": 25,
   "metadata": {},
   "outputs": [
    {
     "name": "stdout",
     "output_type": "stream",
     "text": [
      "Horas: 0 Minutos: 6 Segundos: 0\n"
     ]
    }
   ],
   "source": [
    "segundos=int(input(\"Ingrese la cantidad de segundos\"))\n",
    "\n",
    "horas=segundos//(60*60)\n",
    "segundos=segundos % (60*60)\n",
    "minutos=segundos// (60)\n",
    "segundos=segundos % (60)\n",
    "\n",
    "print('Horas: {} Minutos: {} Segundos: {}'.format(horas,minutos,segundos))"
   ]
  },
  {
   "cell_type": "code",
   "execution_count": 27,
   "metadata": {},
   "outputs": [
    {
     "name": "stdout",
     "output_type": "stream",
     "text": [
      "Tienes,  24 años -9 meses -11 dias\n"
     ]
    }
   ],
   "source": [
    "from datetime import datetime\n",
    "\n",
    "dia=int(input(\"Ingrese el dia actual\"))\n",
    "mes=int(input(\"Ingrese el mes actual\"))\n",
    "año=int(input(\"Ingrese el año actual\"))\n",
    "\n",
    "dia_aniversario=int(input(\"Ingres el dia de tu nacimiento\"))\n",
    "mes_aniversario=int(input(\"Ingres el mes de tu nacimiento\"))\n",
    "año_aniversario=int(input(\"Ingres el año de tu nacimiento\"))\n",
    "\n",
    "resultado_dia = dia - dia_aniversario\n",
    "resultado_mes = mes - mes_aniversario\n",
    "resultado_año = año - año_aniversario\n",
    "\n",
    "print(\"Tienes, \", resultado_año,\"años\", resultado_mes, \"meses\", resultado_dia, \"dias\")"
   ]
  },
  {
   "cell_type": "markdown",
   "metadata": {},
   "source": [
    "# Comentarios"
   ]
  },
  {
   "cell_type": "markdown",
   "metadata": {},
   "source": [
    "Se nota que estás practicas de diferentes aspectos de Python, desde manipulación de cadenas hasta control de flujo, lo cual es una excelente manera de fortalecer nuestras habilidades.\n",
    "\n",
    "La creacion de código demuestra una buena interacción con el usuario mediante la entrada de datos y la presentación de resultados, lo que indica una mejora sólida de cómo crear programas útiles que pueden solventar problemas.\n",
    "\n",
    "A través de los ejemplos realizados, se puede ver una progresión desde conceptos básicos hasta tareas más complejas, lo que nos aporta un enfoque de aprendizaje continuo y metódico.\n",
    "\n",
    "La inclusión de comentarios en el código demuestra la importancia de la documentación y la claridad en la programación, lo cual es fundamental para la colaboración y el mantenimiento del código para apoyo a developers y trabajos del mismo.\n",
    "\n",
    "Los ejercicios abordan situaciones del mundo real, como cálculos de tiempo y manejo de listas, lo que nos proporciona ideas y ambientes de cómo aplicar los conceptos de programación en escenarios cotidianos."
   ]
  }
 ],
 "metadata": {
  "kernelspec": {
   "display_name": "base",
   "language": "python",
   "name": "python3"
  },
  "language_info": {
   "codemirror_mode": {
    "name": "ipython",
    "version": 3
   },
   "file_extension": ".py",
   "mimetype": "text/x-python",
   "name": "python",
   "nbconvert_exporter": "python",
   "pygments_lexer": "ipython3",
   "version": "0.0.0"
  }
 },
 "nbformat": 4,
 "nbformat_minor": 2
}
